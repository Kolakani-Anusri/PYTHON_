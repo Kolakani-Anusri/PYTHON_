{
  "cells": [
    {
      "cell_type": "code",
      "execution_count": null,
      "metadata": {
        "colab": {
          "base_uri": "https://localhost:8080/"
        },
        "id": "-mNccCvqIAom",
        "outputId": "d02f13aa-3f1e-4319-f7d3-c3d3a3a8b434"
      },
      "outputs": [
        {
          "name": "stdout",
          "output_type": "stream",
          "text": [
            "Welcome to the Random Username Generator!\n",
            "How many usernames would you like to generate? 10\n",
            "Include numbers? (yes/no): yes\n",
            "Include special characters? (yes/no): no\n"
          ]
        }
      ],
      "source": [
        "import random\n",
        "import string\n",
        "\n",
        "def load_words():\n",
        "    adjectives = [\"Cool\", \"Happy\", \"Crazy\", \"Brave\", \"Witty\", \"Clever\", \"Swift\", \"Gentle\", \"Fierce\", \"Jolly\"]\n",
        "    nouns = [\"Tiger\", \"Dragon\", \"Eagle\", \"Panther\", \"Wizard\", \"Knight\", \"Phoenix\", \"Samurai\", \"Pirate\", \"Ninja\"]\n",
        "    return adjectives, nouns\n",
        "\n",
        "def generate_username(include_numbers=True, include_special_chars=True, length=10):\n",
        "    adjectives, nouns = load_words()\n",
        "    adj = random.choice(adjectives)\n",
        "    noun = random.choice(nouns)\n",
        "    username = adj + noun\n",
        "\n",
        "    if include_numbers:\n",
        "        username += str(random.randint(10, 99))\n",
        "    if include_special_chars:\n",
        "        username += random.choice(\"!@#$%^&*\")\n",
        "\n",
        "    return username[:length]\n",
        "\n",
        "def save_to_file(username, filename=\"usernames.txt\"):\n",
        "    with open(filename, \"a\") as file:\n",
        "        file.write(username + \"\\n\")\n",
        "\n",
        "def main():\n",
        "    print(\"Welcome to the Random Username Generator!\")\n",
        "    num_usernames = int(input(\"How many usernames would you like to generate? \"))\n",
        "    include_numbers = input(\"Include numbers? (yes/no): \").strip().lower() == \"yes\"\n",
        "    include_special_chars = input(\"Include special characters? (yes/no): \").strip().lower() == \"yes\"\n",
        "    length = int(input(\"Enter the maximum username length (default 6): \") or 6)\n",
        "\n",
        "    usernames = [generate_username(include_numbers, include_special_chars, length) for _ in range(num_usernames)]\n",
        "\n",
        "    print(\"\\nGenerated Usernames:\")\n",
        "    for username in usernames:\n",
        "        print(username)\n",
        "        save_to_file(username)\n",
        "\n",
        "    print(f\"\\nUsernames saved to usernames.txt\")\n",
        "\n",
        "if __name__ == \"__main__\":\n",
        "    main()\n"
      ]
    }
  ],
  "metadata": {
    "colab": {
      "provenance": []
    },
    "kernelspec": {
      "display_name": "Python 3",
      "name": "python3"
    },
    "language_info": {
      "name": "python"
    }
  },
  "nbformat": 4,
  "nbformat_minor": 0
}