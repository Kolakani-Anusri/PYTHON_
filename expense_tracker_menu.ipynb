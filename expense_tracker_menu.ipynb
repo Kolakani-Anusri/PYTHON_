{
  "nbformat": 4,
  "nbformat_minor": 0,
  "metadata": {
    "colab": {
      "provenance": []
    },
    "kernelspec": {
      "name": "python3",
      "display_name": "Python 3"
    },
    "language_info": {
      "name": "python"
    }
  },
  "cells": [
    {
      "cell_type": "code",
      "execution_count": null,
      "metadata": {
        "colab": {
          "base_uri": "https://localhost:8080/"
        },
        "id": "1WQKGNgMsl3d",
        "outputId": "9e1953e3-dac6-45d2-fb50-3604d2767beb"
      },
      "outputs": [
        {
          "output_type": "stream",
          "name": "stdout",
          "text": [
            "\n",
            "Expense Tracker Menu:\n",
            "1. Add Expense\n",
            "2. View Expenses\n",
            "3. Expense Summary\n",
            "4. Exit\n"
          ]
        }
      ],
      "source": [
        "import json\n",
        "import datetime\n",
        "\n",
        "EXPENSE_FILE = \"expenses.json\"\n",
        "\n",
        "def load_expenses():\n",
        "    try:\n",
        "        with open(EXPENSE_FILE, \"r\") as file:\n",
        "            return json.load(file)\n",
        "    except (FileNotFoundError, json.JSONDecodeError):\n",
        "        return []\n",
        "\n",
        "def save_expenses(expenses):\n",
        "    with open(EXPENSE_FILE, \"w\") as file:\n",
        "        json.dump(expenses, file, indent=4)\n",
        "\n",
        "def add_expense():\n",
        "    try:\n",
        "        amount = float(input(\"Enter amount spent: \"))\n",
        "        category = input(\"Enter category (e.g., Food, Transport, Entertainment): \").strip()\n",
        "        description = input(\"Enter description: \").strip()\n",
        "        date = str(datetime.date.today())\n",
        "\n",
        "        expense = {\"date\": date, \"amount\": amount, \"category\": category, \"description\": description}\n",
        "        expenses = load_expenses()\n",
        "        expenses.append(expense)\n",
        "        save_expenses(expenses)\n",
        "        print(\"Expense added successfully!\")\n",
        "    except ValueError:\n",
        "        print(\"Invalid input! Please enter a valid amount.\")\n",
        "\n",
        "def view_expenses():\n",
        "    expenses = load_expenses()\n",
        "    if not expenses:\n",
        "        print(\"No expenses recorded.\")\n",
        "        return\n",
        "\n",
        "    print(\"\\nExpense History:\")\n",
        "    for exp in expenses:\n",
        "        print(f\"{exp['date']} - {exp['category']}: ${exp['amount']} ({exp['description']})\")\n",
        "\n",
        "def expense_summary():\n",
        "    expenses = load_expenses()\n",
        "    if not expenses:\n",
        "        print(\"No expenses recorded.\")\n",
        "        return\n",
        "\n",
        "    monthly_summary = {}\n",
        "    category_summary = {}\n",
        "\n",
        "    for exp in expenses:\n",
        "        month = exp['date'][:7]  # YYYY-MM format\n",
        "        category = exp['category']\n",
        "        amount = exp['amount']\n",
        "\n",
        "        monthly_summary[month] = monthly_summary.get(month, 0) + amount\n",
        "        category_summary[category] = category_summary.get(category, 0) + amount\n",
        "\n",
        "    print(\"\\nMonthly Expense Summary:\")\n",
        "    for month, total in monthly_summary.items():\n",
        "        print(f\"{month}: ${total:.2f}\")\n",
        "\n",
        "    print(\"\\nCategory-wise Expense Summary:\")\n",
        "    for category, total in category_summary.items():\n",
        "        print(f\"{category}: ${total:.2f}\")\n",
        "\n",
        "def main():\n",
        "    while True:\n",
        "        print(\"\\nExpense Tracker Menu:\")\n",
        "        print(\"1. Add Expense\")\n",
        "        print(\"2. View Expenses\")\n",
        "        print(\"3. Expense Summary\")\n",
        "        print(\"4. Exit\")\n",
        "\n",
        "        choice = input(\"Choose an option: \")\n",
        "        if choice == \"1\":\n",
        "            add_expense()\n",
        "        elif choice == \"2\":\n",
        "            view_expenses()\n",
        "        elif choice == \"3\":\n",
        "            expense_summary()\n",
        "        elif choice == \"4\":\n",
        "            print(\"Exiting Expense Tracker. Goodbye!\")\n",
        "            break\n",
        "        else:\n",
        "            print(\"Invalid choice! Please enter a valid option.\")\n",
        "\n",
        "if __name__ == \"__main__\":\n",
        "    main()"
      ]
    }
  ]
}