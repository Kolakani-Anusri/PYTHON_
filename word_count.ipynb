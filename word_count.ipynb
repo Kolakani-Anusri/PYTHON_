{
  "nbformat": 4,
  "nbformat_minor": 0,
  "metadata": {
    "colab": {
      "provenance": []
    },
    "kernelspec": {
      "name": "python3",
      "display_name": "Python 3"
    },
    "language_info": {
      "name": "python"
    }
  },
  "cells": [
    {
      "cell_type": "code",
      "execution_count": null,
      "metadata": {
        "id": "BKA63JM7Jt5E"
      },
      "outputs": [],
      "source": [
        "def count_words(text):\n",
        "    \"\"\"Counts the number of words in the given text.\"\"\"\n",
        "    words = text.split()\n",
        "    return len(words)\n",
        "\n",
        "\n",
        "def main():\n",
        "    \"\"\"Main function to handle user input and display word count.\"\"\"\n",
        "    while True:\n",
        "        text = input(\"Enter a sentence or paragraph (or type 'exit' to quit): \").strip()\n",
        "\n",
        "        if text.lower() == 'exit':\n",
        "            print(\"Exiting program. Goodbye!\")\n",
        "            break\n",
        "\n",
        "        if not text:\n",
        "            print(\"Error: Input cannot be empty. Please enter some text.\")\n",
        "            continue\n",
        "\n",
        "        word_count = count_words(text)\n",
        "        print(f\"Word Count: {word_count}\\n\")\n",
        "\n",
        "\n",
        "if __name__ == \"__main__\":\n",
        "    main()\n"
      ]
    }
  ]
}