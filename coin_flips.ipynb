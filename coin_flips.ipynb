{
  "nbformat": 4,
  "nbformat_minor": 0,
  "metadata": {
    "colab": {
      "provenance": []
    },
    "kernelspec": {
      "name": "python3",
      "display_name": "Python 3"
    },
    "language_info": {
      "name": "python"
    }
  },
  "cells": [
    {
      "cell_type": "code",
      "execution_count": 1,
      "metadata": {
        "colab": {
          "base_uri": "https://localhost:8080/"
        },
        "id": "SDElISloFk5C",
        "outputId": "2346dc98-3a7d-4a56-8473-1274efd6394e"
      },
      "outputs": [
        {
          "output_type": "stream",
          "name": "stdout",
          "text": [
            "Enter the number of coin flips you want to perform: 10\n",
            "\n",
            "Total Flips: 10\n",
            "Heads: 5 (50.00%)\n",
            "Tails: 5 (50.00%)\n",
            "Do you want to perform another session? (yes/no): no\n",
            "Thank you for using the Virtual Coin Toss simulator!\n"
          ]
        }
      ],
      "source": [
        "import random\n",
        "\n",
        "def coin_toss():\n",
        "    \"\"\"Simulate a single coin toss.\"\"\"\n",
        "    return random.choice(['Heads', 'Tails'])\n",
        "\n",
        "def simulate_coin_flips(num_flips):\n",
        "    \"\"\"Simulate multiple coin flips and count the results.\"\"\"\n",
        "    heads_count = 0\n",
        "    tails_count = 0\n",
        "\n",
        "    for _ in range(num_flips):\n",
        "        result = coin_toss()\n",
        "        if result == 'Heads':\n",
        "            heads_count += 1\n",
        "        else:\n",
        "            tails_count += 1\n",
        "\n",
        "    return heads_count, tails_count\n",
        "\n",
        "def display_results(heads_count, tails_count, total_flips):\n",
        "    \"\"\"Display the results of the coin tosses.\"\"\"\n",
        "    print(f\"\\nTotal Flips: {total_flips}\")\n",
        "    print(f\"Heads: {heads_count} ({(heads_count / total_flips) * 100:.2f}%)\")\n",
        "    print(f\"Tails: {tails_count} ({(tails_count / total_flips) * 100:.2f}%)\")\n",
        "\n",
        "def main():\n",
        "    \"\"\"Main function to run the coin toss simulation.\"\"\"\n",
        "    while True:\n",
        "        try:\n",
        "            num_flips = int(input(\"Enter the number of coin flips you want to perform: \"))\n",
        "            if num_flips <= 0:\n",
        "                print(\"Please enter a positive integer.\")\n",
        "                continue\n",
        "        except ValueError:\n",
        "            print(\"Invalid input. Please enter a valid number.\")\n",
        "            continue\n",
        "\n",
        "        heads_count, tails_count = simulate_coin_flips(num_flips)\n",
        "        display_results(heads_count, tails_count, num_flips)\n",
        "\n",
        "        repeat = input(\"Do you want to perform another session? (yes/no): \").strip().lower()\n",
        "        if repeat != 'yes':\n",
        "            print(\"Thank you for using the Virtual Coin Toss simulator!\")\n",
        "            break\n",
        "\n",
        "if __name__ == \"__main__\":\n",
        "    main()"
      ]
    }
  ]
}