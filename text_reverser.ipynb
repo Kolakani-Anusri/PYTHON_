{
  "nbformat": 4,
  "nbformat_minor": 0,
  "metadata": {
    "colab": {
      "provenance": []
    },
    "kernelspec": {
      "name": "python3",
      "display_name": "Python 3"
    },
    "language_info": {
      "name": "python"
    }
  },
  "cells": [
    {
      "cell_type": "code",
      "execution_count": null,
      "metadata": {
        "colab": {
          "base_uri": "https://localhost:8080/"
        },
        "id": "NdfxHLyoGSy7",
        "outputId": "59931c8f-a26f-4616-98be-3386f3cb4299"
      },
      "outputs": [
        {
          "output_type": "stream",
          "name": "stdout",
          "text": [
            "\n",
            "--- Text Reverser Menu ---\n",
            "1. Reverse character order\n",
            "2. Reverse word order\n",
            "3. Exit\n"
          ]
        }
      ],
      "source": [
        "# text_reverser.py\n",
        "\n",
        "def reverse_characters(text):\n",
        "    \"\"\"Reverses the characters in the input text.\"\"\"\n",
        "    return text[::-1]\n",
        "\n",
        "def reverse_words(text):\n",
        "    \"\"\"Reverses the order of words in the input text.\"\"\"\n",
        "    return ' '.join(text.split()[::-1])\n",
        "\n",
        "def get_user_input():\n",
        "    \"\"\"Gets user input and checks for empty input.\"\"\"\n",
        "    text = input(\"Enter a sentence: \").strip()\n",
        "    if not text:\n",
        "        print(\"Error: Empty input is not allowed.\")\n",
        "        return None\n",
        "    return text\n",
        "\n",
        "def display_menu():\n",
        "    \"\"\"Displays the menu options.\"\"\"\n",
        "    print(\"\\n--- Text Reverser Menu ---\")\n",
        "    print(\"1. Reverse character order\")\n",
        "    print(\"2. Reverse word order\")\n",
        "    print(\"3. Exit\")\n",
        "\n",
        "def main():\n",
        "    \"\"\"Main function to run the text reverser program.\"\"\"\n",
        "    while True:\n",
        "        display_menu()\n",
        "        choice = input(\"Enter your choice (1/2/3): \").strip()\n",
        "\n",
        "        if choice == '3':\n",
        "            print(\"Exiting program.\")\n",
        "            break\n",
        "        elif choice in ('1', '2'):\n",
        "            text = get_user_input()\n",
        "            if text is None:\n",
        "                continue\n",
        "\n",
        "            if choice == '1':\n",
        "                result = reverse_characters(text)\n",
        "            else:\n",
        "                result = reverse_words(text)\n",
        "\n",
        "            print(\"Reversed Text:\", result)\n",
        "\n",
        "            # Optional: Save to file\n",
        "            save = input(\"Do you want to save the result to a file? (y/n): \").lower()\n",
        "            if save == 'y':\n",
        "                try:\n",
        "                    with open(\"reversed_output.txt\", \"a\") as file:\n",
        "                        file.write(result + \"\\n\")\n",
        "                    print(\"Saved to 'reversed_output.txt'.\")\n",
        "                except Exception as e:\n",
        "                    print(\"Error saving file:\", e)\n",
        "        else:\n",
        "            print(\"Invalid choice. Please select 1, 2, or 3.\")\n",
        "\n",
        "if __name__ == \"__main__\":\n",
        "    main()\n"
      ]
    }
  ]
}